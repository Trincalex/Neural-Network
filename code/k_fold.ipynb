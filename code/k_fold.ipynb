{
 "cells": [
  {
   "cell_type": "markdown",
   "id": "3ea627e4-3f8d-4b0c-8510-f11be4958ea3",
   "metadata": {},
   "source": [
    "### k_fold.ipynb\n",
    "- Alessandro Trincone\n",
    "- Mario Gabriele Carofano\n",
    "\n",
    "> ..."
   ]
  },
  {
   "cell_type": "code",
   "execution_count": null,
   "id": "df6fb490-c50e-48dd-a7c4-a785d3966e13",
   "metadata": {},
   "outputs": [],
   "source": [
    "import auxfunc\n",
    "import constants\n",
    "\n",
    "import numpy as np\n",
    "from artificial_neural_network import NeuralNetwork\n",
    "import dataset_function as df\n",
    "\n",
    "import time\n",
    "from datetime import datetime\n",
    "\n",
    "import os\n",
    "import matplotlib.pyplot as plot"
   ]
  },
  {
   "cell_type": "markdown",
   "id": "440fcec9-1f4f-47c5-83fd-5565fa93ae53",
   "metadata": {},
   "source": [
    "..."
   ]
  },
  {
   "cell_type": "code",
   "execution_count": null,
   "id": "4f7d92aa-1c9d-40d4-890b-ceb361fc1842",
   "metadata": {},
   "outputs": [],
   "source": [
    "Xtrain, Ytrain, Xtest, Ytest = df.loadDataset(constants.COPPIE_TRAINING, constants.COPPIE_TEST)\n",
    "Xtrain, Ytrain = df.split_dataset(Xtrain, Ytrain)"
   ]
  },
  {
   "cell_type": "markdown",
   "id": "d6f866b7-7919-4de0-8bd9-e03ae36fa49b",
   "metadata": {},
   "source": [
    "..."
   ]
  },
  {
   "cell_type": "code",
   "execution_count": null,
   "id": "0917fe04-d798-47be-a3a5-6ed418f7350b",
   "metadata": {},
   "outputs": [],
   "source": [
    "fold_params = []\n",
    "\n",
    "print(f\"\\nK-fold cross-validation iniziato: {datetime.now().strftime(constants.DATE_TIME_FORMAT)}\")\n",
    "start_time = time.time()\n",
    "\n",
    "for i in range(constants.DEFAULT_K_FOLD_VALUE):\n",
    "\n",
    "    print(f\"\\nFold {i+1} di {constants.DEFAULT_K_FOLD_VALUE}\")\n",
    "\n",
    "    net = NeuralNetwork(\n",
    "        784, 64, 10,\n",
    "        hidden_act_funs=auxfunc.leaky_relu,\n",
    "        output_act_fun=auxfunc.identity,\n",
    "        e_fun=auxfunc.cross_entropy_softmax\n",
    "    )\n",
    "\n",
    "    training_fold = np.concatenate([fold for j, fold in enumerate(Xtrain) if j != i])\n",
    "    training_labels = np.concatenate([fold for j, fold in enumerate(Ytrain) if j != i])\n",
    "    validation_fold = Xtrain[i]\n",
    "    validation_labels = Ytrain[i]\n",
    "\n",
    "    net.train(training_fold, training_labels, validation_fold, validation_labels)\n",
    "\n",
    "    fold_params.append({\n",
    "        \"Weights\" : net.weights,\n",
    "        \"Biases\" : net.biases,\n",
    "        \"Report\" : net.training_report\n",
    "    })\n",
    "\n",
    "    # if constants.DEBUG_MODE:\n",
    "    break\n",
    "\n",
    "# end for i\n",
    "\n",
    "end_time = time.time()\n",
    "tot_time = end_time - start_time\n",
    "\n",
    "print(f\"\\nK-fold cross-validation completato: {datetime.now().strftime(constants.DATE_TIME_FORMAT)}\")\n",
    "print(f\"Tempo trascorso: {tot_time:.3f} secondi\")"
   ]
  },
  {
   "cell_type": "markdown",
   "id": "3932a08d-819f-4411-8e95-87ab13ed607d",
   "metadata": {},
   "source": [
    "Prendi la miglior rete di tutte (vedere bene come funziona la k-fold cross validation)\n",
    "..."
   ]
  },
  {
   "cell_type": "code",
   "execution_count": null,
   "id": "41aadb63-69b3-4a60-817a-2333dc26d866",
   "metadata": {},
   "outputs": [],
   "source": [
    "index = int(np.argmin([fold[\"Report\"].validation_error for fold in fold_params], keepdims=False))\n",
    "print(f\"\\nMiglior rete (fold): {index+1}\")\n",
    "print(repr(fold_params[index][\"Report\"]))"
   ]
  },
  {
   "cell_type": "markdown",
   "id": "1bfa3685-4dfe-4c0e-9005-13d0a94fa511",
   "metadata": {},
   "source": [
    "..."
   ]
  },
  {
   "cell_type": "code",
   "execution_count": null,
   "id": "83e228c7-0d29-465c-9567-94a05b57353a",
   "metadata": {},
   "outputs": [],
   "source": [
    "net.weights = fold_params[index][\"Weights\"]\n",
    "net.biases = fold_params[index][\"Biases\"]\n",
    "net.save_network_to_file()"
   ]
  },
  {
   "cell_type": "markdown",
   "id": "ee3ca79d-88eb-4fee-ac0a-d49588514371",
   "metadata": {},
   "source": [
    "..."
   ]
  },
  {
   "cell_type": "code",
   "execution_count": null,
   "id": "f832b7d8-4cc1-4831-b9b8-baa8b9978c0b",
   "metadata": {},
   "outputs": [],
   "source": [
    "# TODO: invece di mostrare le predizioni sul terminale, mostrare un bar chart\n",
    "for test_example in zip(Xtest, Ytest):\n",
    "     label = np.argmax(test_example[1])\n",
    "     print(f\"Ground truth: {constants.ETICHETTE_CLASSI[label]}\")\n",
    "     net.predict(test_example[0])\n",
    "     df.show_image(test_example[0])"
   ]
  }
 ],
 "metadata": {
  "kernelspec": {
   "display_name": "Python 3 (ipykernel)",
   "language": "python",
   "name": "python3"
  },
  "language_info": {
   "codemirror_mode": {
    "name": "ipython",
    "version": 3
   },
   "file_extension": ".py",
   "mimetype": "text/x-python",
   "name": "python",
   "nbconvert_exporter": "python",
   "pygments_lexer": "ipython3",
   "version": "3.10.10"
  }
 },
 "nbformat": 4,
 "nbformat_minor": 5
}
